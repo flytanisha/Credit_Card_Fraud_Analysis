{
 "cells": [
  {
   "cell_type": "markdown",
   "id": "5b25b1de-1ade-437c-aa5a-80621bfb5064",
   "metadata": {},
   "source": [
    "# Credit Card Fraud Analysis - ML Project "
   ]
  },
  {
   "cell_type": "markdown",
   "id": "90066ea0-765d-4df6-bdd7-73c36cbc49e7",
   "metadata": {},
   "source": [
    "# Dataset loading and initial processing"
   ]
  },
  {
   "cell_type": "code",
   "execution_count": 1,
   "id": "f0b15157-cd21-436b-9129-a5956f20b0a9",
   "metadata": {},
   "outputs": [],
   "source": [
    "# import the necessary packages \n",
    "import numpy as np \n",
    "import pandas as pd \n",
    "import matplotlib.pyplot as plt \n",
    "import seaborn as sns "
   ]
  },
  {
   "cell_type": "code",
   "execution_count": 2,
   "id": "0a26c90d-edfb-4a70-a99d-7d99fbf71f65",
   "metadata": {},
   "outputs": [],
   "source": [
    "df = pd.read_csv(\"C:\\\\Users\\\\Tanis\\\\ML_Project\\\\fraudTrain.csv\")"
   ]
  },
  {
   "cell_type": "code",
   "execution_count": 3,
   "id": "aab1d94b-6d8a-4e3b-a61e-94b82b25f1b6",
   "metadata": {
    "scrolled": true
   },
   "outputs": [
    {
     "data": {
      "text/html": [
       "<div>\n",
       "<style scoped>\n",
       "    .dataframe tbody tr th:only-of-type {\n",
       "        vertical-align: middle;\n",
       "    }\n",
       "\n",
       "    .dataframe tbody tr th {\n",
       "        vertical-align: top;\n",
       "    }\n",
       "\n",
       "    .dataframe thead th {\n",
       "        text-align: right;\n",
       "    }\n",
       "</style>\n",
       "<table border=\"1\" class=\"dataframe\">\n",
       "  <thead>\n",
       "    <tr style=\"text-align: right;\">\n",
       "      <th></th>\n",
       "      <th>Unnamed: 0</th>\n",
       "      <th>trans_date_trans_time</th>\n",
       "      <th>cc_num</th>\n",
       "      <th>merchant</th>\n",
       "      <th>category</th>\n",
       "      <th>amt</th>\n",
       "      <th>first</th>\n",
       "      <th>last</th>\n",
       "      <th>gender</th>\n",
       "      <th>street</th>\n",
       "      <th>...</th>\n",
       "      <th>lat</th>\n",
       "      <th>long</th>\n",
       "      <th>city_pop</th>\n",
       "      <th>job</th>\n",
       "      <th>dob</th>\n",
       "      <th>trans_num</th>\n",
       "      <th>unix_time</th>\n",
       "      <th>merch_lat</th>\n",
       "      <th>merch_long</th>\n",
       "      <th>is_fraud</th>\n",
       "    </tr>\n",
       "  </thead>\n",
       "  <tbody>\n",
       "    <tr>\n",
       "      <th>0</th>\n",
       "      <td>0</td>\n",
       "      <td>01/01/2019 00:00</td>\n",
       "      <td>2.703190e+15</td>\n",
       "      <td>fraud_Rippin, Kub and Mann</td>\n",
       "      <td>misc_net</td>\n",
       "      <td>4.97</td>\n",
       "      <td>Jennifer</td>\n",
       "      <td>Banks</td>\n",
       "      <td>F</td>\n",
       "      <td>561 Perry Cove</td>\n",
       "      <td>...</td>\n",
       "      <td>36.0788</td>\n",
       "      <td>-81.1781</td>\n",
       "      <td>3495</td>\n",
       "      <td>Psychologist, counselling</td>\n",
       "      <td>09/03/1988</td>\n",
       "      <td>0b242abb623afc578575680df30655b9</td>\n",
       "      <td>1325376018</td>\n",
       "      <td>36.011293</td>\n",
       "      <td>-82.048315</td>\n",
       "      <td>0</td>\n",
       "    </tr>\n",
       "    <tr>\n",
       "      <th>1</th>\n",
       "      <td>1</td>\n",
       "      <td>01/01/2019 00:00</td>\n",
       "      <td>6.304230e+11</td>\n",
       "      <td>fraud_Heller, Gutmann and Zieme</td>\n",
       "      <td>grocery_pos</td>\n",
       "      <td>107.23</td>\n",
       "      <td>Stephanie</td>\n",
       "      <td>Gill</td>\n",
       "      <td>F</td>\n",
       "      <td>43039 Riley Greens Suite 393</td>\n",
       "      <td>...</td>\n",
       "      <td>48.8878</td>\n",
       "      <td>-118.2105</td>\n",
       "      <td>149</td>\n",
       "      <td>Special educational needs teacher</td>\n",
       "      <td>21/06/1978</td>\n",
       "      <td>1f76529f8574734946361c461b024d99</td>\n",
       "      <td>1325376044</td>\n",
       "      <td>49.159047</td>\n",
       "      <td>-118.186462</td>\n",
       "      <td>0</td>\n",
       "    </tr>\n",
       "  </tbody>\n",
       "</table>\n",
       "<p>2 rows × 23 columns</p>\n",
       "</div>"
      ],
      "text/plain": [
       "   Unnamed: 0 trans_date_trans_time        cc_num  \\\n",
       "0           0      01/01/2019 00:00  2.703190e+15   \n",
       "1           1      01/01/2019 00:00  6.304230e+11   \n",
       "\n",
       "                          merchant     category     amt      first   last  \\\n",
       "0       fraud_Rippin, Kub and Mann     misc_net    4.97   Jennifer  Banks   \n",
       "1  fraud_Heller, Gutmann and Zieme  grocery_pos  107.23  Stephanie   Gill   \n",
       "\n",
       "  gender                        street  ...      lat      long  city_pop  \\\n",
       "0      F                561 Perry Cove  ...  36.0788  -81.1781      3495   \n",
       "1      F  43039 Riley Greens Suite 393  ...  48.8878 -118.2105       149   \n",
       "\n",
       "                                 job         dob  \\\n",
       "0          Psychologist, counselling  09/03/1988   \n",
       "1  Special educational needs teacher  21/06/1978   \n",
       "\n",
       "                          trans_num   unix_time  merch_lat  merch_long  \\\n",
       "0  0b242abb623afc578575680df30655b9  1325376018  36.011293  -82.048315   \n",
       "1  1f76529f8574734946361c461b024d99  1325376044  49.159047 -118.186462   \n",
       "\n",
       "   is_fraud  \n",
       "0         0  \n",
       "1         0  \n",
       "\n",
       "[2 rows x 23 columns]"
      ]
     },
     "execution_count": 3,
     "metadata": {},
     "output_type": "execute_result"
    }
   ],
   "source": [
    "df.head(2)"
   ]
  },
  {
   "cell_type": "code",
   "execution_count": 4,
   "id": "74d31488-1289-41a8-ae71-974d2181f61f",
   "metadata": {},
   "outputs": [
    {
     "data": {
      "text/plain": [
       "Text(0, 0.5, 'Frequency')"
      ]
     },
     "execution_count": 4,
     "metadata": {},
     "output_type": "execute_result"
    },
    {
     "data": {
      "image/png": "[encoded data removed]",
      "text/plain": [
       "<Figure size 640x480 with 1 Axes>"
      ]
     },
     "metadata": {},
     "output_type": "display_data"
    }
   ],
   "source": [
    "count_classes = pd.value_counts(df['is_fraud'])\n",
    "\n",
    "count_classes.plot(kind = 'bar', rot=1) \n",
    "\n",
    "plt.title(\"Transaction Class Distribution\")\n",
    "LABELS = [\"Non-Fraudulent\", \"Fraudulent\"]\n",
    "plt.xticks(range(2), LABELS)\n",
    "\n",
    "plt.xlabel(\"Class\")\n",
    "\n",
    "plt.ylabel(\"Frequency\")"
   ]
  },
  {
   "cell_type": "markdown",
   "id": "e0e08311-0341-4f85-b187-f515f7e61409",
   "metadata": {},
   "source": [
    "# Performing Under Sampling for balancing the Dataset"
   ]
  },
  {
   "cell_type": "code",
   "execution_count": 5,
   "id": "711f35fe-5231-4121-bfba-457313cabf58",
   "metadata": {},
   "outputs": [
    {
     "name": "stdout",
     "output_type": "stream",
     "text": [
      "is_fraud\n",
      "0    1042569\n",
      "1       6006\n",
      "Name: count, dtype: int64\n"
     ]
    }
   ],
   "source": [
    "# Split variables into X and y\n",
    "X = df.drop('is_fraud', axis=1)\n",
    "y = df['is_fraud'] # target variable\n",
    "\n",
    "# Count the number of occurrences of each class in the target variable\n",
    "count_classes = pd.value_counts(y)\n",
    "# Print the count\n",
    "print(count_classes)"
   ]
  },
  {
   "cell_type": "code",
   "execution_count": 6,
   "id": "7474add6-1f46-41a1-9076-c50f5fc6d9b1",
   "metadata": {},
   "outputs": [],
   "source": [
    "from imblearn.under_sampling import RandomUnderSampler\n",
    "\n",
    "# Initialize RandomUnderSampler\n",
    "rus = RandomUnderSampler(random_state=42)\n",
    "\n",
    "# Fit and resample\n",
    "X_res, y_res = rus.fit_resample(X, y)\n"
   ]
  },
  {
   "cell_type": "code",
   "execution_count": 7,
   "id": "b6449c8d-f977-444b-8246-f3834a98ae81",
   "metadata": {},
   "outputs": [
    {
     "name": "stdout",
     "output_type": "stream",
     "text": [
      "is_fraud\n",
      "0    6006\n",
      "1    6006\n",
      "Name: count, dtype: int64\n"
     ]
    }
   ],
   "source": [
    "# Count the number of occurrences of each class in the target variable\n",
    "count_classes_res = pd.value_counts(y_res)\n",
    "\n",
    "# Print the count\n",
    "print(count_classes_res)\n"
   ]
  },
  {
   "cell_type": "code",
   "execution_count": 8,
   "id": "2457b68a-d620-455d-a88f-9f17fc613a43",
   "metadata": {},
   "outputs": [
    {
     "data": {
      "image/png": "[encoded data removed]",
      "text/plain": [
       "<Figure size 640x480 with 1 Axes>"
      ]
     },
     "metadata": {},
     "output_type": "display_data"
    }
   ],
   "source": [
    "# Plot the class distribution\n",
    "count_classes_res.plot(kind='bar', rot=0)\n",
    "\n",
    "# Set the title and labels\n",
    "plt.title(\"Transaction Class Distribution After Undersampling\")\n",
    "LABELS = [\"Non-Fraudulent\", \"Fraudulent\"]\n",
    "plt.xticks(range(2), LABELS)\n",
    "\n",
    "# Set the x and y labels\n",
    "plt.xlabel(\"Class\")\n",
    "plt.ylabel(\"Frequency\")\n",
    "\n",
    "# Show the plot\n",
    "plt.show()\n"
   ]
  },
  {
   "cell_type": "code",
   "execution_count": 9,
   "id": "5c2c8c14-980a-46a1-aaaf-7b7b08161d93",
   "metadata": {},
   "outputs": [],
   "source": [
    "# Combine X_res and y_res into a single DataFrame\n",
    "df = pd.concat([X_res, y_res], axis=1)\n",
    "\n",
    "# If you want to reset the index of the new DataFrame\n",
    "df = df.reset_index(drop=True)\n"
   ]
  },
  {
   "cell_type": "code",
   "execution_count": 10,
   "id": "7b1c2c7f-ef6d-46a5-b2d6-dd724e75620d",
   "metadata": {},
   "outputs": [],
   "source": [
    "# data = df"
   ]
  },
  {
   "cell_type": "markdown",
   "id": "b62419e4-9ecc-40e1-acc1-00e9e1d82bd2",
   "metadata": {},
   "source": [
    "# Preparing Dataset for PCA"
   ]
  },
  {
   "cell_type": "markdown",
   "id": "72b00428-2e90-4d84-aef2-f516cd9a5924",
   "metadata": {},
   "source": [
    "# Extracting information from trans_date_trans_time column"
   ]
  },
  {
   "cell_type": "code",
   "execution_count": 11,
   "id": "26d89b4d-24ee-4a70-a5c0-e0e55b0a5acb",
   "metadata": {},
   "outputs": [
    {
     "name": "stdout",
     "output_type": "stream",
     "text": [
      "       Unnamed: 0 trans_date_trans_time        cc_num  \\\n",
      "0          669418   2019-10-12 18:21:00  4.089100e+18   \n",
      "1           32567   2019-01-20 13:06:00  4.247920e+12   \n",
      "2          156587   2019-03-24 18:09:00  4.026220e+12   \n",
      "3         1020243   2020-02-25 15:12:00  4.957920e+12   \n",
      "4          116272   2019-03-06 23:19:00  4.178100e+15   \n",
      "...           ...                   ...           ...   \n",
      "12007     1047089   2020-03-10 03:59:00  3.589290e+15   \n",
      "12008     1047157   2020-03-10 04:31:00  3.546670e+15   \n",
      "12009     1047208   2020-03-10 04:59:00  3.589290e+15   \n",
      "12010     1047521   2020-03-10 08:22:00  3.589290e+15   \n",
      "12011     1047918   2020-03-10 12:09:00  3.589290e+15   \n",
      "\n",
      "                                merchant       category     amt   first  \\\n",
      "0      fraud_Haley, Jewess and Bechtelar   shopping_pos    7.53   Debra   \n",
      "1                       fraud_Turner LLC         travel    3.79  Judith   \n",
      "2                      fraud_Klein Group  entertainment   59.07  Debbie   \n",
      "3                    fraud_Monahan-Morar  personal_care   25.58    Alan   \n",
      "4                    fraud_Kozey-Kuhlman  personal_care   84.96    Jill   \n",
      "...                                  ...            ...     ...     ...   \n",
      "12007                 fraud_Kris-Weimann       misc_net  690.49   Paula   \n",
      "12008      fraud_Casper, Hand and Zulauf    grocery_pos  324.74  Jordan   \n",
      "12009                    fraud_Kiehn Inc    grocery_pos  331.33   Paula   \n",
      "12010                 fraud_Rau and Sons    grocery_pos  356.20   Paula   \n",
      "12011            fraud_O'Connell-Ullrich           home  249.56   Paula   \n",
      "\n",
      "          last gender                           street  ...  \\\n",
      "0        Stark      F                   686 Linda Rest  ...   \n",
      "1         Moss      F  46297 Benjamin Plains Suite 703  ...   \n",
      "2        Payne      F         204 Ashley Neck Apt. 169  ...   \n",
      "3      Parsons      M      0547 Russell Ford Suite 574  ...   \n",
      "4       Flores      F                 639 Cruz Islands  ...   \n",
      "...        ...    ...                              ...  ...   \n",
      "12007  Estrada      F                  350 Stacy Glens  ...   \n",
      "12008      May      M                1626 Susan Course  ...   \n",
      "12009  Estrada      F                  350 Stacy Glens  ...   \n",
      "12010  Estrada      F                  350 Stacy Glens  ...   \n",
      "12011  Estrada      F                  350 Stacy Glens  ...   \n",
      "\n",
      "                              trans_num   unix_time  merch_lat  merch_long  \\\n",
      "0      d313353fa30233e5fab5468e852d22fc  1350066071  32.202008  -94.371865   \n",
      "1      88c65b4e1585934d578511e627fe3589  1327064760  39.156673  -82.930503   \n",
      "2      3bd9ede04b5c093143d5e5292940b670  1332612553  41.657152  -72.595751   \n",
      "3      19e16ee7a01d229e750359098365e321  1361805120  39.080346 -103.213452   \n",
      "4      a0c8641ca1f5d6e243ed5a2246e66176  1331075954  42.502065  -86.732664   \n",
      "...                                 ...         ...        ...         ...   \n",
      "12007  fb1ddd251bbec9b84c9755e856d51723  1362887989  43.254214  -98.267759   \n",
      "12008  4dca0549e43b7e265cae7fd8a7e563b4  1362889904  33.607221  -97.996506   \n",
      "12009  d18c55035998e461aa9040e254b74925  1362891561  44.228731  -98.330520   \n",
      "12010  bdaeb5e3413a408d7e6c3720a35337d5  1362903771  43.988931  -97.989985   \n",
      "12011  8f0bac74e340483b44babb0d6d07b85b  1362917373  42.868322  -98.537668   \n",
      "\n",
      "       is_fraud  year month day hour  minute  \n",
      "0             0  2019    10  12   18      21  \n",
      "1             0  2019     1  20   13       6  \n",
      "2             0  2019     3  24   18       9  \n",
      "3             0  2020     2  25   15      12  \n",
      "4             0  2019     3   6   23      19  \n",
      "...         ...   ...   ...  ..  ...     ...  \n",
      "12007         1  2020     3  10    3      59  \n",
      "12008         1  2020     3  10    4      31  \n",
      "12009         1  2020     3  10    4      59  \n",
      "12010         1  2020     3  10    8      22  \n",
      "12011         1  2020     3  10   12       9  \n",
      "\n",
      "[12012 rows x 28 columns]\n"
     ]
    }
   ],
   "source": [
    "# preprocessing trans_date_trans_time column\n",
    "df['trans_date_trans_time'] = pd.to_datetime(df['trans_date_trans_time'], format=\"%d/%m/%Y %H:%M\")\n",
    "\n",
    "# Extract components of the datetime\n",
    "df['year'] = df['trans_date_trans_time'].dt.year\n",
    "df['month'] = df['trans_date_trans_time'].dt.month\n",
    "df['day'] = df['trans_date_trans_time'].dt.day\n",
    "df['hour'] = df['trans_date_trans_time'].dt.hour\n",
    "df['minute'] = df['trans_date_trans_time'].dt.minute\n",
    "\n",
    "# Display the preprocessed DataFrame\n",
    "print(df)\n"
   ]
  },
  {
   "cell_type": "code",
   "execution_count": 12,
   "id": "e293154a-6b7e-4f5a-a0f5-6eb0a8c0e017",
   "metadata": {},
   "outputs": [
    {
     "name": "stdout",
     "output_type": "stream",
     "text": [
      "Index(['Unnamed: 0', 'trans_date_trans_time', 'cc_num', 'merchant', 'category',\n",
      "       'amt', 'first', 'last', 'gender', 'street', 'city', 'state', 'zip',\n",
      "       'lat', 'long', 'city_pop', 'job', 'dob', 'trans_num', 'unix_time',\n",
      "       'merch_lat', 'merch_long', 'is_fraud', 'year', 'month', 'day', 'hour',\n",
      "       'minute'],\n",
      "      dtype='object')\n"
     ]
    }
   ],
   "source": [
    "print(df.columns)"
   ]
  },
  {
   "cell_type": "code",
   "execution_count": 13,
   "id": "87117c37-f600-426a-a5c8-c5bdb59f6682",
   "metadata": {},
   "outputs": [],
   "source": [
    "df = df.drop(columns=['trans_date_trans_time'])"
   ]
  },
  {
   "cell_type": "markdown",
   "id": "b6b80199-6ca6-4fc7-ac24-f1e893ff2e46",
   "metadata": {},
   "source": [
    "# Encoding Categorical Values"
   ]
  },
  {
   "cell_type": "code",
   "execution_count": 14,
   "id": "ce442ab4-fb7f-4347-9e57-ca3560eb52c8",
   "metadata": {},
   "outputs": [
    {
     "name": "stdout",
     "output_type": "stream",
     "text": [
      "       Unnamed: 0        cc_num                           merchant  \\\n",
      "0          669418  4.089100e+18  fraud_Haley, Jewess and Bechtelar   \n",
      "1           32567  4.247920e+12                   fraud_Turner LLC   \n",
      "2          156587  4.026220e+12                  fraud_Klein Group   \n",
      "3         1020243  4.957920e+12                fraud_Monahan-Morar   \n",
      "4          116272  4.178100e+15                fraud_Kozey-Kuhlman   \n",
      "...           ...           ...                                ...   \n",
      "12007     1047089  3.589290e+15                 fraud_Kris-Weimann   \n",
      "12008     1047157  3.546670e+15      fraud_Casper, Hand and Zulauf   \n",
      "12009     1047208  3.589290e+15                    fraud_Kiehn Inc   \n",
      "12010     1047521  3.589290e+15                 fraud_Rau and Sons   \n",
      "12011     1047918  3.589290e+15            fraud_O'Connell-Ullrich   \n",
      "\n",
      "            category     amt   first     last gender  \\\n",
      "0       shopping_pos    7.53   Debra    Stark      F   \n",
      "1             travel    3.79  Judith     Moss      F   \n",
      "2      entertainment   59.07  Debbie    Payne      F   \n",
      "3      personal_care   25.58    Alan  Parsons      M   \n",
      "4      personal_care   84.96    Jill   Flores      F   \n",
      "...              ...     ...     ...      ...    ...   \n",
      "12007       misc_net  690.49   Paula  Estrada      F   \n",
      "12008    grocery_pos  324.74  Jordan      May      M   \n",
      "12009    grocery_pos  331.33   Paula  Estrada      F   \n",
      "12010    grocery_pos  356.20   Paula  Estrada      F   \n",
      "12011           home  249.56   Paula  Estrada      F   \n",
      "\n",
      "                                street                    city  ...  year  \\\n",
      "0                       686 Linda Rest                 Kilgore  ...  2019   \n",
      "1      46297 Benjamin Plains Suite 703  Washington Court House  ...  2019   \n",
      "2             204 Ashley Neck Apt. 169                 Preston  ...  2019   \n",
      "3          0547 Russell Ford Suite 574                    Kirk  ...  2020   \n",
      "4                     639 Cruz Islands                  Baroda  ...  2019   \n",
      "...                                ...                     ...  ...   ...   \n",
      "12007                  350 Stacy Glens                 Spencer  ...  2020   \n",
      "12008                1626 Susan Course                   Aledo  ...  2020   \n",
      "12009                  350 Stacy Glens                 Spencer  ...  2020   \n",
      "12010                  350 Stacy Glens                 Spencer  ...  2020   \n",
      "12011                  350 Stacy Glens                 Spencer  ...  2020   \n",
      "\n",
      "       month  day  hour  minute merchant_encoded category_encoded  \\\n",
      "0         10   12    18      21         0.002081         0.098568   \n",
      "1          1   20    13       6         0.000583         0.025391   \n",
      "2          3   24    18       9         0.000583         0.049367   \n",
      "3          2   25    15      12         0.001665         0.051365   \n",
      "4          3    6    23      19         0.001249         0.051365   \n",
      "...      ...  ...   ...     ...              ...              ...   \n",
      "12007      3   10     3      59         0.001665         0.086996   \n",
      "12008      3   10     4      31         0.003080         0.162338   \n",
      "12009      3   10     4      59         0.002248         0.162338   \n",
      "12010      3   10     8      22         0.004246         0.162338   \n",
      "12011      3   10    12       9         0.001332         0.064269   \n",
      "\n",
      "      gender_encoded  city_encoded  state_encoded  \n",
      "0           0.519397      0.000500       0.066267  \n",
      "1           0.519397      0.001582       0.040543  \n",
      "2           0.519397      0.000250       0.003663  \n",
      "3           0.480603      0.000333       0.010739  \n",
      "4           0.519397      0.000833       0.036380  \n",
      "...              ...           ...            ...  \n",
      "12007       0.519397      0.001415       0.009074  \n",
      "12008       0.480603      0.000333       0.066267  \n",
      "12009       0.519397      0.001415       0.009074  \n",
      "12010       0.519397      0.001415       0.009074  \n",
      "12011       0.519397      0.001415       0.009074  \n",
      "\n",
      "[12012 rows x 32 columns]\n"
     ]
    }
   ],
   "source": [
    "columns_to_encode = ['merchant', 'category', 'gender', 'city', 'state']\n",
    "\n",
    "#frequency encoding\n",
    "for column in columns_to_encode:\n",
    "    frequency_map = df[column].value_counts(normalize=True).to_dict()\n",
    "    df[column + '_encoded'] = df[column].map(frequency_map)\n",
    "\n",
    "# Display the result\n",
    "print(df)"
   ]
  },
  {
   "cell_type": "code",
   "execution_count": 15,
   "id": "fdefc4cc-3996-4a14-8912-560a8a51bee7",
   "metadata": {},
   "outputs": [
    {
     "data": {
      "text/plain": [
       "Index(['Unnamed: 0', 'cc_num', 'merchant', 'category', 'amt', 'first', 'last',\n",
       "       'gender', 'street', 'city', 'state', 'zip', 'lat', 'long', 'city_pop',\n",
       "       'job', 'dob', 'trans_num', 'unix_time', 'merch_lat', 'merch_long',\n",
       "       'is_fraud', 'year', 'month', 'day', 'hour', 'minute',\n",
       "       'merchant_encoded', 'category_encoded', 'gender_encoded',\n",
       "       'city_encoded', 'state_encoded'],\n",
       "      dtype='object')"
      ]
     },
     "execution_count": 15,
     "metadata": {},
     "output_type": "execute_result"
    }
   ],
   "source": [
    "df.columns"
   ]
  },
  {
   "cell_type": "code",
   "execution_count": 16,
   "id": "14dfc7f5-7489-45d8-955a-0bd8ebfa53fa",
   "metadata": {},
   "outputs": [
    {
     "name": "stdout",
     "output_type": "stream",
     "text": [
      "Index(['Unnamed: 0', 'cc_num', 'amt', 'zip', 'lat', 'long', 'city_pop',\n",
      "       'unix_time', 'merch_lat', 'merch_long', 'is_fraud', 'year', 'month',\n",
      "       'day', 'hour', 'minute', 'merchant_encoded', 'category_encoded',\n",
      "       'gender_encoded', 'city_encoded', 'state_encoded'],\n",
      "      dtype='object')\n"
     ]
    }
   ],
   "source": [
    "# Viewing Numeric Data\n",
    "numeric_columns = df.select_dtypes(include=[np.number])\n",
    "print(numeric_columns.columns)"
   ]
  },
  {
   "cell_type": "code",
   "execution_count": 17,
   "id": "2fbf11a7-9e63-49d2-9f1e-fbea70fed6af",
   "metadata": {},
   "outputs": [
    {
     "data": {
      "text/plain": [
       "False"
      ]
     },
     "execution_count": 17,
     "metadata": {},
     "output_type": "execute_result"
    }
   ],
   "source": [
    "numeric_columns.isnull().values.any()"
   ]
  },
  {
   "cell_type": "code",
   "execution_count": 18,
   "id": "affbc778",
   "metadata": {},
   "outputs": [
    {
     "data": {
      "text/plain": [
       "(12012, 32)"
      ]
     },
     "execution_count": 18,
     "metadata": {},
     "output_type": "execute_result"
    }
   ],
   "source": [
    "df.shape"
   ]
  },
  {
   "cell_type": "code",
   "execution_count": 19,
   "id": "64370d42-3424-46ea-9285-cdb17fbb764e",
   "metadata": {},
   "outputs": [
    {
     "data": {
      "text/plain": [
       "(12012, 21)"
      ]
     },
     "execution_count": 19,
     "metadata": {},
     "output_type": "execute_result"
    }
   ],
   "source": [
    "numeric_columns.shape"
   ]
  },
  {
   "cell_type": "markdown",
   "id": "eb92cd40-b0a1-48e0-a4d3-4d4d6b35d782",
   "metadata": {},
   "source": [
    "# PCA calculation of Numeric Data"
   ]
  },
  {
   "cell_type": "code",
   "execution_count": 20,
   "id": "c5788ceb-445b-4377-86cd-1f108d9c4a11",
   "metadata": {},
   "outputs": [],
   "source": [
    "from sklearn.decomposition import PCA\n",
    "from sklearn.preprocessing import StandardScaler\n",
    "\n",
    "# Specify the columns to keep unchanged\n",
    "columns_to_keep = [\"amt\", \"is_fraud\"]  \n",
    "\n",
    "# Extract the columns for PCA\n",
    "columns_for_pca = df.drop(columns_to_keep, axis=1)\n",
    "\n",
    "# Step 1: Standardize the numeric data for PCA\n",
    "numeric_columns = columns_for_pca.select_dtypes(include=[np.number])\n",
    "scaler = StandardScaler()\n",
    "scaled_numeric_data = scaler.fit_transform(numeric_columns)\n",
    "\n",
    "# Step 2: Create a PCA instance\n",
    "pca = PCA()\n",
    "\n",
    "# Step 3: Fit the PCA instance to the combined data\n",
    "pca.fit(scaled_numeric_data)\n",
    "\n",
    "# Step 5: Transform the original data to the new coordinate system\n",
    "transformed_data = pca.transform(scaled_numeric_data)\n",
    "\n",
    "# Create a DataFrame with the principal components\n",
    "pc_columns = [f'PC{i+1}' for i in range(transformed_data.shape[1])]\n",
    "pc_df = pd.DataFrame(transformed_data, columns=pc_columns)\n",
    "\n",
    "# Combine the unchanged columns with the PCA components\n",
    "final_data = pd.concat([df[columns_to_keep], pc_df], axis=1)\n"
   ]
  },
  {
   "cell_type": "code",
   "execution_count": 21,
   "id": "8a60c099-53b6-4e4a-a429-10ceac4af479",
   "metadata": {},
   "outputs": [
    {
     "data": {
      "text/html": [
       "<div>\n",
       "<style scoped>\n",
       "    .dataframe tbody tr th:only-of-type {\n",
       "        vertical-align: middle;\n",
       "    }\n",
       "\n",
       "    .dataframe tbody tr th {\n",
       "        vertical-align: top;\n",
       "    }\n",
       "\n",
       "    .dataframe thead th {\n",
       "        text-align: right;\n",
       "    }\n",
       "</style>\n",
       "<table border=\"1\" class=\"dataframe\">\n",
       "  <thead>\n",
       "    <tr style=\"text-align: right;\">\n",
       "      <th></th>\n",
       "      <th>amt</th>\n",
       "      <th>is_fraud</th>\n",
       "      <th>PC1</th>\n",
       "      <th>PC2</th>\n",
       "      <th>PC3</th>\n",
       "      <th>PC4</th>\n",
       "      <th>PC5</th>\n",
       "      <th>PC6</th>\n",
       "      <th>PC7</th>\n",
       "      <th>PC8</th>\n",
       "      <th>...</th>\n",
       "      <th>PC10</th>\n",
       "      <th>PC11</th>\n",
       "      <th>PC12</th>\n",
       "      <th>PC13</th>\n",
       "      <th>PC14</th>\n",
       "      <th>PC15</th>\n",
       "      <th>PC16</th>\n",
       "      <th>PC17</th>\n",
       "      <th>PC18</th>\n",
       "      <th>PC19</th>\n",
       "    </tr>\n",
       "  </thead>\n",
       "  <tbody>\n",
       "    <tr>\n",
       "      <th>0</th>\n",
       "      <td>7.53</td>\n",
       "      <td>0</td>\n",
       "      <td>0.769668</td>\n",
       "      <td>-1.075692</td>\n",
       "      <td>-1.845398</td>\n",
       "      <td>-0.184481</td>\n",
       "      <td>-0.997218</td>\n",
       "      <td>-2.014573</td>\n",
       "      <td>0.372970</td>\n",
       "      <td>0.010799</td>\n",
       "      <td>...</td>\n",
       "      <td>1.843703</td>\n",
       "      <td>1.768178</td>\n",
       "      <td>1.414819</td>\n",
       "      <td>-0.724200</td>\n",
       "      <td>-0.026686</td>\n",
       "      <td>-0.426030</td>\n",
       "      <td>-0.016891</td>\n",
       "      <td>-0.009775</td>\n",
       "      <td>0.021294</td>\n",
       "      <td>0.000124</td>\n",
       "    </tr>\n",
       "    <tr>\n",
       "      <th>1</th>\n",
       "      <td>3.79</td>\n",
       "      <td>0</td>\n",
       "      <td>-1.136661</td>\n",
       "      <td>2.263995</td>\n",
       "      <td>-0.348672</td>\n",
       "      <td>-1.998219</td>\n",
       "      <td>1.108192</td>\n",
       "      <td>-0.040160</td>\n",
       "      <td>0.173492</td>\n",
       "      <td>-1.332707</td>\n",
       "      <td>...</td>\n",
       "      <td>0.293952</td>\n",
       "      <td>0.610710</td>\n",
       "      <td>-0.224001</td>\n",
       "      <td>-0.215770</td>\n",
       "      <td>0.110670</td>\n",
       "      <td>-0.242095</td>\n",
       "      <td>-0.053617</td>\n",
       "      <td>0.073899</td>\n",
       "      <td>0.025135</td>\n",
       "      <td>0.000039</td>\n",
       "    </tr>\n",
       "    <tr>\n",
       "      <th>2</th>\n",
       "      <td>59.07</td>\n",
       "      <td>0</td>\n",
       "      <td>-2.244804</td>\n",
       "      <td>1.469008</td>\n",
       "      <td>1.142332</td>\n",
       "      <td>-1.888394</td>\n",
       "      <td>0.542106</td>\n",
       "      <td>-1.250228</td>\n",
       "      <td>0.409900</td>\n",
       "      <td>-1.178941</td>\n",
       "      <td>...</td>\n",
       "      <td>-0.091119</td>\n",
       "      <td>-0.105360</td>\n",
       "      <td>0.408522</td>\n",
       "      <td>1.652734</td>\n",
       "      <td>-0.311124</td>\n",
       "      <td>0.111090</td>\n",
       "      <td>0.018859</td>\n",
       "      <td>-0.019518</td>\n",
       "      <td>-0.028850</td>\n",
       "      <td>-0.002436</td>\n",
       "    </tr>\n",
       "    <tr>\n",
       "      <th>3</th>\n",
       "      <td>25.58</td>\n",
       "      <td>0</td>\n",
       "      <td>2.263771</td>\n",
       "      <td>-2.448405</td>\n",
       "      <td>1.072725</td>\n",
       "      <td>-0.575453</td>\n",
       "      <td>2.111521</td>\n",
       "      <td>-0.977030</td>\n",
       "      <td>1.753706</td>\n",
       "      <td>-0.638255</td>\n",
       "      <td>...</td>\n",
       "      <td>-0.970926</td>\n",
       "      <td>0.311827</td>\n",
       "      <td>-0.892225</td>\n",
       "      <td>0.771217</td>\n",
       "      <td>0.432371</td>\n",
       "      <td>-0.262585</td>\n",
       "      <td>-0.073162</td>\n",
       "      <td>-0.040086</td>\n",
       "      <td>-0.037600</td>\n",
       "      <td>0.003591</td>\n",
       "    </tr>\n",
       "    <tr>\n",
       "      <th>4</th>\n",
       "      <td>84.96</td>\n",
       "      <td>0</td>\n",
       "      <td>-0.582948</td>\n",
       "      <td>1.947184</td>\n",
       "      <td>0.685918</td>\n",
       "      <td>-1.666971</td>\n",
       "      <td>0.834694</td>\n",
       "      <td>-0.507442</td>\n",
       "      <td>-0.501065</td>\n",
       "      <td>-0.832774</td>\n",
       "      <td>...</td>\n",
       "      <td>-0.143118</td>\n",
       "      <td>0.417433</td>\n",
       "      <td>0.937909</td>\n",
       "      <td>0.319605</td>\n",
       "      <td>0.137678</td>\n",
       "      <td>-0.315847</td>\n",
       "      <td>0.072350</td>\n",
       "      <td>-0.005968</td>\n",
       "      <td>-0.014771</td>\n",
       "      <td>-0.002606</td>\n",
       "    </tr>\n",
       "  </tbody>\n",
       "</table>\n",
       "<p>5 rows × 21 columns</p>\n",
       "</div>"
      ],
      "text/plain": [
       "     amt  is_fraud       PC1       PC2       PC3       PC4       PC5  \\\n",
       "0   7.53         0  0.769668 -1.075692 -1.845398 -0.184481 -0.997218   \n",
       "1   3.79         0 -1.136661  2.263995 -0.348672 -1.998219  1.108192   \n",
       "2  59.07         0 -2.244804  1.469008  1.142332 -1.888394  0.542106   \n",
       "3  25.58         0  2.263771 -2.448405  1.072725 -0.575453  2.111521   \n",
       "4  84.96         0 -0.582948  1.947184  0.685918 -1.666971  0.834694   \n",
       "\n",
       "        PC6       PC7       PC8  ...      PC10      PC11      PC12      PC13  \\\n",
       "0 -2.014573  0.372970  0.010799  ...  1.843703  1.768178  1.414819 -0.724200   \n",
       "1 -0.040160  0.173492 -1.332707  ...  0.293952  0.610710 -0.224001 -0.215770   \n",
       "2 -1.250228  0.409900 -1.178941  ... -0.091119 -0.105360  0.408522  1.652734   \n",
       "3 -0.977030  1.753706 -0.638255  ... -0.970926  0.311827 -0.892225  0.771217   \n",
       "4 -0.507442 -0.501065 -0.832774  ... -0.143118  0.417433  0.937909  0.319605   \n",
       "\n",
       "       PC14      PC15      PC16      PC17      PC18      PC19  \n",
       "0 -0.026686 -0.426030 -0.016891 -0.009775  0.021294  0.000124  \n",
       "1  0.110670 -0.242095 -0.053617  0.073899  0.025135  0.000039  \n",
       "2 -0.311124  0.111090  0.018859 -0.019518 -0.028850 -0.002436  \n",
       "3  0.432371 -0.262585 -0.073162 -0.040086 -0.037600  0.003591  \n",
       "4  0.137678 -0.315847  0.072350 -0.005968 -0.014771 -0.002606  \n",
       "\n",
       "[5 rows x 21 columns]"
      ]
     },
     "execution_count": 21,
     "metadata": {},
     "output_type": "execute_result"
    }
   ],
   "source": [
    "final_data.head()"
   ]
  },
  {
   "cell_type": "markdown",
   "id": "2b255974-9c8d-47f3-a7a7-e08c05cfcb28",
   "metadata": {},
   "source": [
    "# Exploratory Data Analysis"
   ]
  },
  {
   "cell_type": "code",
   "execution_count": 22,
   "id": "da5d4caa-c920-4f40-83c0-627cb25ba3de",
   "metadata": {},
   "outputs": [
    {
     "name": "stdout",
     "output_type": "stream",
     "text": [
      "1.0\n",
      "Fraud Cases: 6006\n",
      "Valid Transactions: 6006\n"
     ]
    }
   ],
   "source": [
    "# Determine number of fraud cases in dataset \n",
    "fraud = final_data[final_data['is_fraud'] == 1] \n",
    "valid = final_data[final_data['is_fraud'] == 0] \n",
    "outlierFraction = len(fraud)/float(len(valid)) \n",
    "print(outlierFraction) \n",
    "print('Fraud Cases: {}'.format(len(final_data[final_data['is_fraud'] == 1]))) \n",
    "print('Valid Transactions: {}'.format(len(final_data[final_data['is_fraud'] == 0]))) \n"
   ]
  },
  {
   "cell_type": "code",
   "execution_count": 23,
   "id": "383bdc64-b9b1-49a9-b662-1f71b1a9efa6",
   "metadata": {},
   "outputs": [
    {
     "name": "stdout",
     "output_type": "stream",
     "text": [
      "Amount details of the fraudulent transaction\n"
     ]
    },
    {
     "data": {
      "text/plain": [
       "count    6006.000000\n",
       "mean      530.573492\n",
       "std       391.333069\n",
       "min         1.180000\n",
       "25%       241.577500\n",
       "50%       391.165000\n",
       "75%       901.950000\n",
       "max      1371.810000\n",
       "Name: amt, dtype: float64"
      ]
     },
     "execution_count": 23,
     "metadata": {},
     "output_type": "execute_result"
    }
   ],
   "source": [
    "print('Amount details of the fraudulent transaction') \n",
    "fraud.amt.describe() "
   ]
  },
  {
   "cell_type": "code",
   "execution_count": 24,
   "id": "f4ccddf7-ad6e-4c81-a41e-d76a55c1905b",
   "metadata": {},
   "outputs": [
    {
     "name": "stdout",
     "output_type": "stream",
     "text": [
      "details of valid transaction\n"
     ]
    },
    {
     "data": {
      "text/plain": [
       "count     6006.000000\n",
       "mean        71.763348\n",
       "std        370.569524\n",
       "min          1.010000\n",
       "25%          9.492500\n",
       "50%         46.480000\n",
       "75%         83.397500\n",
       "max      27390.120000\n",
       "Name: amt, dtype: float64"
      ]
     },
     "execution_count": 24,
     "metadata": {},
     "output_type": "execute_result"
    }
   ],
   "source": [
    "print('details of valid transaction') \n",
    "valid.amt.describe() "
   ]
  },
  {
   "cell_type": "markdown",
   "id": "6e070233-712c-4f43-b809-687d56ebc774",
   "metadata": {},
   "source": [
    "# Correlation Matrix and HeatMap"
   ]
  },
  {
   "cell_type": "code",
   "execution_count": 25,
   "id": "6d508dae-15f4-4e04-9991-3200b3031dba",
   "metadata": {},
   "outputs": [
    {
     "data": {
      "image/png": "[encoded data removed]",
      "text/plain": [
       "<Figure size 1200x900 with 2 Axes>"
      ]
     },
     "metadata": {},
     "output_type": "display_data"
    }
   ],
   "source": [
    "corrmat = final_data.corr() \n",
    "fig = plt.figure(figsize = (12, 9)) \n",
    "sns.heatmap(corrmat, vmax = .8, square = True, cmap='viridis') \n",
    "plt.show() "
   ]
  },
  {
   "cell_type": "code",
   "execution_count": 26,
   "id": "0975d452-7d7e-4505-8c75-3abd7d91dece",
   "metadata": {},
   "outputs": [
    {
     "name": "stdout",
     "output_type": "stream",
     "text": [
      "(12012, 20)\n",
      "(12012,)\n"
     ]
    }
   ],
   "source": [
    "# dividing the X and the Y from the dataset \n",
    "X = final_data.drop(['is_fraud'], axis = 1) \n",
    "Y = final_data[\"is_fraud\"] \n",
    "print(X.shape) \n",
    "print(Y.shape) \n",
    "xData = X.values \n",
    "yData = Y.values \n"
   ]
  },
  {
   "cell_type": "code",
   "execution_count": 27,
   "id": "a4f29bf1-d6a9-45fb-abc2-219037bb154b",
   "metadata": {},
   "outputs": [],
   "source": [
    "# Using Scikit-learn to split data into training and testing sets \n",
    "from sklearn.model_selection import train_test_split \n",
    "# Split the data into training and testing sets \n",
    "xTrain, xTest, yTrain, yTest = train_test_split( \n",
    "\t\txData, yData, test_size = 0.2, random_state = 42) "
   ]
  },
  {
   "cell_type": "markdown",
   "id": "441a2e40-13bd-4f48-86b1-2fafda6d6205",
   "metadata": {},
   "source": [
    "# Random Forest Classifier & Confusion Matrix"
   ]
  },
  {
   "cell_type": "code",
   "execution_count": 28,
   "id": "59809105-0fc5-4fdb-a7cc-495d95e76add",
   "metadata": {},
   "outputs": [],
   "source": [
    "# Building the Random Forest Classifier (RANDOM FOREST) \n",
    "from sklearn.ensemble import RandomForestClassifier \n",
    "# random forest model creation \n",
    "rfc = RandomForestClassifier() \n",
    "rfc.fit(xTrain, yTrain) \n",
    "# predictions  \n",
    "yPred_rfc = rfc.predict(xTest) "
   ]
  },
  {
   "cell_type": "code",
   "execution_count": 29,
   "id": "f7eba2e9-6ea7-43fa-bdc8-4b2e6740846a",
   "metadata": {},
   "outputs": [
    {
     "name": "stdout",
     "output_type": "stream",
     "text": [
      "The model used is Random Forest classifier\n",
      "The accuracy is 0.9305035372451103\n",
      "The precision is 0.9576576576576576\n",
      "The recall is 0.8985629754860525\n",
      "The F1-Score is 0.9271696467509812\n",
      "The Matthews correlation coefficient is 0.8624409533350984\n"
     ]
    }
   ],
   "source": [
    "# Evaluating the classifier \n",
    "# printing every score of the classifier \n",
    "# scoring in anything \n",
    "from sklearn.metrics import classification_report, accuracy_score \n",
    "from sklearn.metrics import precision_score, recall_score \n",
    "from sklearn.metrics import f1_score, matthews_corrcoef \n",
    "from sklearn.metrics import confusion_matrix \n",
    "\n",
    "n_outliers = len(fraud) \n",
    "n_errors = (yPred_rfc != yTest).sum() \n",
    "print(\"The model used is Random Forest classifier\") \n",
    "\n",
    "acc = accuracy_score(yTest, yPred_rfc) \n",
    "print(\"The accuracy is {}\".format(acc)) \n",
    "\n",
    "prec = precision_score(yTest, yPred_rfc) \n",
    "print(\"The precision is {}\".format(prec)) \n",
    "\n",
    "rec = recall_score(yTest, yPred_rfc) \n",
    "print(\"The recall is {}\".format(rec)) \n",
    "\n",
    "f1 = f1_score(yTest, yPred_rfc) \n",
    "print(\"The F1-Score is {}\".format(f1)) \n",
    "\n",
    "MCC = matthews_corrcoef(yTest, yPred_rfc) \n",
    "print(\"The Matthews correlation coefficient is {}\".format(MCC)) \n"
   ]
  },
  {
   "cell_type": "code",
   "execution_count": 30,
   "id": "3a0d2d7f-4910-48bd-87b7-480cc2494ed5",
   "metadata": {},
   "outputs": [
    {
     "data": {
      "image/png": "[encoded data removed]",
      "text/plain": [
       "<Figure size 1200x1200 with 2 Axes>"
      ]
     },
     "metadata": {},
     "output_type": "display_data"
    }
   ],
   "source": [
    "# printing the confusion matrix \n",
    "LABELS = ['Normal', 'Fraud'] \n",
    "conf_matrix = confusion_matrix(yTest, yPred_rfc) \n",
    "plt.figure(figsize =(12, 12)) \n",
    "sns.heatmap(conf_matrix, xticklabels = LABELS, \n",
    "\t\t\tyticklabels = LABELS, annot = True, fmt =\"d\"); \n",
    "plt.title(\"Confusion matrix\") \n",
    "plt.ylabel('True class') \n",
    "plt.xlabel('Predicted class') \n",
    "plt.show() \n"
   ]
  },
  {
   "cell_type": "markdown",
   "id": "629679c4-248d-4ff3-b657-b90d068a686f",
   "metadata": {},
   "source": [
    "# Decision Tree Classifier"
   ]
  },
  {
   "cell_type": "code",
   "execution_count": 31,
   "id": "e5187c81-9f67-4d0f-957d-72c66a44b864",
   "metadata": {},
   "outputs": [
    {
     "name": "stdout",
     "output_type": "stream",
     "text": [
      "Decision Tree Classifier accuracy: 0.9022055763628797\n",
      "The precision is 0.9003378378378378\n",
      "The recall is 0.9010989010989011\n",
      "The F1-Score is 0.9007182087029996\n",
      "The Matthews correlation coefficient is 0.8043675578026449\n"
     ]
    }
   ],
   "source": [
    "from sklearn.tree import DecisionTreeClassifier\n",
    "from sklearn.metrics import accuracy_score\n",
    "from sklearn.metrics import precision_score, recall_score \n",
    "from sklearn.metrics import f1_score, matthews_corrcoef \n",
    "\n",
    "X = final_data.drop(['is_fraud'], axis = 1) \n",
    "y = final_data[\"is_fraud\"] \n",
    "#splitting dataset \n",
    "X_train, X_test, y_train, y_test = train_test_split(\n",
    "    X, y, test_size=0.2, random_state=42)\n",
    "clf = DecisionTreeClassifier(random_state=42)\n",
    "clf.fit(X_train, y_train)\n",
    "y_pred = clf.predict(X_test)\n",
    "\n",
    "accuracy = accuracy_score(y_test, y_pred)\n",
    "print(f\"Decision Tree Classifier accuracy: {accuracy}\")\n",
    "\n",
    "prec = precision_score(y_test, y_pred) \n",
    "print(\"The precision is {}\".format(prec)) \n",
    "\n",
    "rec = recall_score(y_test, y_pred) \n",
    "print(\"The recall is {}\".format(rec)) \n",
    "\n",
    "f1 = f1_score(y_test, y_pred) \n",
    "print(\"The F1-Score is {}\".format(f1)) \n",
    "\n",
    "MCC = matthews_corrcoef(y_test, y_pred) \n",
    "print(\"The Matthews correlation coefficient is {}\".format(MCC)) \n"
   ]
  },
  {
   "cell_type": "markdown",
   "id": "31201e41-36a9-4d03-b596-be69e372ec09",
   "metadata": {},
   "source": [
    "# Gaussian Naive Bayes"
   ]
  },
  {
   "cell_type": "code",
   "execution_count": 32,
   "id": "353ba0a2-501a-4de3-a5e3-458eb3a3f636",
   "metadata": {},
   "outputs": [
    {
     "name": "stdout",
     "output_type": "stream",
     "text": [
      "Gaussian Naive Bayes model accuracy: 0.8472424557752342\n",
      "The precision is 0.932601880877743\n",
      "The recall is 0.7468619246861925\n",
      "The F1-Score is 0.8294609665427509\n",
      "The Matthews correlation coefficient is 0.708231130368494\n"
     ]
    }
   ],
   "source": [
    "from sklearn.model_selection import train_test_split\n",
    "from sklearn.metrics import precision_score, recall_score \n",
    "from sklearn.metrics import f1_score, matthews_corrcoef \n",
    "\n",
    "X_train, X_test, y_train, y_test = train_test_split(xData, yData, test_size=0.4, random_state=1)\n",
    "  \n",
    "# training the model on training set\n",
    "from sklearn.naive_bayes import GaussianNB\n",
    "gnb = GaussianNB()\n",
    "gnb.fit(X_train, y_train)\n",
    "  \n",
    "# making predictions on the testing set\n",
    "y_pred = gnb.predict(X_test)\n",
    "  \n",
    "# comparing actual response values (y_test) with predicted response values (y_pred)\n",
    "from sklearn import metrics\n",
    "print(\"Gaussian Naive Bayes model accuracy:\", metrics.accuracy_score(y_test, y_pred))\n",
    "\n",
    "prec = precision_score(y_test, y_pred) \n",
    "print(\"The precision is {}\".format(prec)) \n",
    "\n",
    "rec = recall_score(y_test, y_pred) \n",
    "print(\"The recall is {}\".format(rec)) \n",
    "\n",
    "f1 = f1_score(y_test, y_pred) \n",
    "print(\"The F1-Score is {}\".format(f1)) \n",
    "\n",
    "MCC = matthews_corrcoef(y_test, y_pred) \n",
    "print(\"The Matthews correlation coefficient is {}\".format(MCC)) "
   ]
  },
  {
   "cell_type": "markdown",
   "id": "eced3595-7a90-42b9-8cfb-4fe81225405f",
   "metadata": {},
   "source": [
    "# K-Fold"
   ]
  },
  {
   "cell_type": "code",
   "execution_count": 33,
   "id": "d644ed40-0c7b-4e69-9589-9a61d967857f",
   "metadata": {},
   "outputs": [],
   "source": [
    "from sklearn.model_selection import KFold \n",
    "from sklearn.linear_model import LogisticRegression\n",
    "from sklearn.metrics import accuracy_score"
   ]
  },
  {
   "cell_type": "code",
   "execution_count": 34,
   "id": "5467f6e1-abef-4a8c-81b0-56b8ed3abfb5",
   "metadata": {},
   "outputs": [
    {
     "name": "stdout",
     "output_type": "stream",
     "text": [
      "Accuracy of each fold - [0.8585101955888472, 0.8514357053682896, 0.8180682764363031, 0.6548709408825978, 0.384263114071607]\n",
      "Average Accuracy : 0.7134296464695289\n"
     ]
    }
   ],
   "source": [
    "#Implementing cross validation\n",
    "#We performed a binary classification using Logistic regression as our model and cross-validated it using 5-Fold cross-validation. \n",
    "k = 5\n",
    "kf = KFold(n_splits=k, random_state=None)\n",
    "model = LogisticRegression(solver= 'liblinear')\n",
    " \n",
    "acc_score = []\n",
    " \n",
    "for train_index , test_index in kf.split(xData):\n",
    "    X_train , X_test = xData[train_index,:],xData[test_index,:]\n",
    "    y_train , y_test = yData[train_index] , yData[test_index]\n",
    "     \n",
    "    model.fit(X_train,y_train)\n",
    "    pred_values = model.predict(X_test)\n",
    "     \n",
    "    acc = accuracy_score(pred_values , y_test)\n",
    "    acc_score.append(acc)\n",
    "     \n",
    "avg_acc_score = sum(acc_score)/k\n",
    " \n",
    "print('Accuracy of each fold - {}'.format(acc_score))\n",
    "print('Average Accuracy : {}'.format(avg_acc_score))"
   ]
  },
  {
   "cell_type": "markdown",
   "id": "0d92409e-f46b-4d7e-ae6a-f23926123dd0",
   "metadata": {},
   "source": [
    "# Implementing Predictive Model "
   ]
  },
  {
   "cell_type": "code",
   "execution_count": 35,
   "id": "8a7281bb-17dd-41e9-931f-e8841f94a796",
   "metadata": {},
   "outputs": [],
   "source": [
    "test = pd.read_csv(\"C:\\\\Users\\\\Tanis\\\\ML_Project\\\\fraudTest.csv\")"
   ]
  },
  {
   "cell_type": "code",
   "execution_count": 36,
   "id": "fe55f953-1c9b-484b-9d58-e380d1b1cf97",
   "metadata": {},
   "outputs": [
    {
     "name": "stdout",
     "output_type": "stream",
     "text": [
      "<class 'pandas.core.frame.DataFrame'>\n",
      "RangeIndex: 555719 entries, 0 to 555718\n",
      "Data columns (total 23 columns):\n",
      " #   Column                 Non-Null Count   Dtype  \n",
      "---  ------                 --------------   -----  \n",
      " 0   Unnamed: 0             555719 non-null  int64  \n",
      " 1   trans_date_trans_time  555719 non-null  object \n",
      " 2   cc_num                 555719 non-null  int64  \n",
      " 3   merchant               555719 non-null  object \n",
      " 4   category               555719 non-null  object \n",
      " 5   amt                    555719 non-null  float64\n",
      " 6   first                  555719 non-null  object \n",
      " 7   last                   555719 non-null  object \n",
      " 8   gender                 555719 non-null  object \n",
      " 9   street                 555719 non-null  object \n",
      " 10  city                   555719 non-null  object \n",
      " 11  state                  555719 non-null  object \n",
      " 12  zip                    555719 non-null  int64  \n",
      " 13  lat                    555719 non-null  float64\n",
      " 14  long                   555719 non-null  float64\n",
      " 15  city_pop               555719 non-null  int64  \n",
      " 16  job                    555719 non-null  object \n",
      " 17  dob                    555719 non-null  object \n",
      " 18  trans_num              555719 non-null  object \n",
      " 19  unix_time              555719 non-null  int64  \n",
      " 20  merch_lat              555719 non-null  float64\n",
      " 21  merch_long             555719 non-null  float64\n",
      " 22  is_fraud               555719 non-null  int64  \n",
      "dtypes: float64(5), int64(6), object(12)\n",
      "memory usage: 97.5+ MB\n",
      "None\n"
     ]
    }
   ],
   "source": [
    "print(test.info())"
   ]
  },
  {
   "cell_type": "code",
   "execution_count": 37,
   "id": "ee30bec7",
   "metadata": {},
   "outputs": [
    {
     "data": {
      "text/html": [
       "<div>\n",
       "<style scoped>\n",
       "    .dataframe tbody tr th:only-of-type {\n",
       "        vertical-align: middle;\n",
       "    }\n",
       "\n",
       "    .dataframe tbody tr th {\n",
       "        vertical-align: top;\n",
       "    }\n",
       "\n",
       "    .dataframe thead th {\n",
       "        text-align: right;\n",
       "    }\n",
       "</style>\n",
       "<table border=\"1\" class=\"dataframe\">\n",
       "  <thead>\n",
       "    <tr style=\"text-align: right;\">\n",
       "      <th></th>\n",
       "      <th>Unnamed: 0</th>\n",
       "      <th>trans_date_trans_time</th>\n",
       "      <th>cc_num</th>\n",
       "      <th>merchant</th>\n",
       "      <th>category</th>\n",
       "      <th>amt</th>\n",
       "      <th>first</th>\n",
       "      <th>last</th>\n",
       "      <th>gender</th>\n",
       "      <th>street</th>\n",
       "      <th>...</th>\n",
       "      <th>lat</th>\n",
       "      <th>long</th>\n",
       "      <th>city_pop</th>\n",
       "      <th>job</th>\n",
       "      <th>dob</th>\n",
       "      <th>trans_num</th>\n",
       "      <th>unix_time</th>\n",
       "      <th>merch_lat</th>\n",
       "      <th>merch_long</th>\n",
       "      <th>is_fraud</th>\n",
       "    </tr>\n",
       "  </thead>\n",
       "  <tbody>\n",
       "    <tr>\n",
       "      <th>0</th>\n",
       "      <td>0</td>\n",
       "      <td>2020-06-21 12:14:25</td>\n",
       "      <td>2291163933867244</td>\n",
       "      <td>fraud_Kirlin and Sons</td>\n",
       "      <td>personal_care</td>\n",
       "      <td>2.86</td>\n",
       "      <td>Jeff</td>\n",
       "      <td>Elliott</td>\n",
       "      <td>M</td>\n",
       "      <td>351 Darlene Green</td>\n",
       "      <td>...</td>\n",
       "      <td>33.9659</td>\n",
       "      <td>-80.9355</td>\n",
       "      <td>333497</td>\n",
       "      <td>Mechanical engineer</td>\n",
       "      <td>1968-03-19</td>\n",
       "      <td>2da90c7d74bd46a0caf3777415b3ebd3</td>\n",
       "      <td>1371816865</td>\n",
       "      <td>33.986391</td>\n",
       "      <td>-81.200714</td>\n",
       "      <td>0</td>\n",
       "    </tr>\n",
       "    <tr>\n",
       "      <th>1</th>\n",
       "      <td>1</td>\n",
       "      <td>2020-06-21 12:14:33</td>\n",
       "      <td>3573030041201292</td>\n",
       "      <td>fraud_Sporer-Keebler</td>\n",
       "      <td>personal_care</td>\n",
       "      <td>29.84</td>\n",
       "      <td>Joanne</td>\n",
       "      <td>Williams</td>\n",
       "      <td>F</td>\n",
       "      <td>3638 Marsh Union</td>\n",
       "      <td>...</td>\n",
       "      <td>40.3207</td>\n",
       "      <td>-110.4360</td>\n",
       "      <td>302</td>\n",
       "      <td>Sales professional, IT</td>\n",
       "      <td>1990-01-17</td>\n",
       "      <td>324cc204407e99f51b0d6ca0055005e7</td>\n",
       "      <td>1371816873</td>\n",
       "      <td>39.450498</td>\n",
       "      <td>-109.960431</td>\n",
       "      <td>0</td>\n",
       "    </tr>\n",
       "    <tr>\n",
       "      <th>2</th>\n",
       "      <td>2</td>\n",
       "      <td>2020-06-21 12:14:53</td>\n",
       "      <td>3598215285024754</td>\n",
       "      <td>fraud_Swaniawski, Nitzsche and Welch</td>\n",
       "      <td>health_fitness</td>\n",
       "      <td>41.28</td>\n",
       "      <td>Ashley</td>\n",
       "      <td>Lopez</td>\n",
       "      <td>F</td>\n",
       "      <td>9333 Valentine Point</td>\n",
       "      <td>...</td>\n",
       "      <td>40.6729</td>\n",
       "      <td>-73.5365</td>\n",
       "      <td>34496</td>\n",
       "      <td>Librarian, public</td>\n",
       "      <td>1970-10-21</td>\n",
       "      <td>c81755dbbbea9d5c77f094348a7579be</td>\n",
       "      <td>1371816893</td>\n",
       "      <td>40.495810</td>\n",
       "      <td>-74.196111</td>\n",
       "      <td>0</td>\n",
       "    </tr>\n",
       "  </tbody>\n",
       "</table>\n",
       "<p>3 rows × 23 columns</p>\n",
       "</div>"
      ],
      "text/plain": [
       "   Unnamed: 0 trans_date_trans_time            cc_num  \\\n",
       "0           0   2020-06-21 12:14:25  2291163933867244   \n",
       "1           1   2020-06-21 12:14:33  3573030041201292   \n",
       "2           2   2020-06-21 12:14:53  3598215285024754   \n",
       "\n",
       "                               merchant        category    amt   first  \\\n",
       "0                 fraud_Kirlin and Sons   personal_care   2.86    Jeff   \n",
       "1                  fraud_Sporer-Keebler   personal_care  29.84  Joanne   \n",
       "2  fraud_Swaniawski, Nitzsche and Welch  health_fitness  41.28  Ashley   \n",
       "\n",
       "       last gender                street  ...      lat      long  city_pop  \\\n",
       "0   Elliott      M     351 Darlene Green  ...  33.9659  -80.9355    333497   \n",
       "1  Williams      F      3638 Marsh Union  ...  40.3207 -110.4360       302   \n",
       "2     Lopez      F  9333 Valentine Point  ...  40.6729  -73.5365     34496   \n",
       "\n",
       "                      job         dob                         trans_num  \\\n",
       "0     Mechanical engineer  1968-03-19  2da90c7d74bd46a0caf3777415b3ebd3   \n",
       "1  Sales professional, IT  1990-01-17  324cc204407e99f51b0d6ca0055005e7   \n",
       "2       Librarian, public  1970-10-21  c81755dbbbea9d5c77f094348a7579be   \n",
       "\n",
       "    unix_time  merch_lat  merch_long  is_fraud  \n",
       "0  1371816865  33.986391  -81.200714         0  \n",
       "1  1371816873  39.450498 -109.960431         0  \n",
       "2  1371816893  40.495810  -74.196111         0  \n",
       "\n",
       "[3 rows x 23 columns]"
      ]
     },
     "execution_count": 37,
     "metadata": {},
     "output_type": "execute_result"
    }
   ],
   "source": [
    "test.head(3)"
   ]
  },
  {
   "cell_type": "markdown",
   "id": "e3a8e5f6-6dc4-4850-b6a7-a986198c7bc0",
   "metadata": {},
   "source": [
    "# Applying the same Preprocessing on the test dataset"
   ]
  },
  {
   "cell_type": "code",
   "execution_count": 38,
   "id": "a8a660ad-321f-44a7-a2cb-d87ab621dd32",
   "metadata": {},
   "outputs": [
    {
     "name": "stdout",
     "output_type": "stream",
     "text": [
      "        Unnamed: 0 trans_date_trans_time            cc_num  \\\n",
      "0                0   2020-06-21 12:14:25  2291163933867244   \n",
      "1                1   2020-06-21 12:14:33  3573030041201292   \n",
      "2                2   2020-06-21 12:14:53  3598215285024754   \n",
      "3                3   2020-06-21 12:15:15  3591919803438423   \n",
      "4                4   2020-06-21 12:15:17  3526826139003047   \n",
      "...            ...                   ...               ...   \n",
      "555714      555714   2020-12-31 23:59:07    30560609640617   \n",
      "555715      555715   2020-12-31 23:59:09  3556613125071656   \n",
      "555716      555716   2020-12-31 23:59:15  6011724471098086   \n",
      "555717      555717   2020-12-31 23:59:24     4079773899158   \n",
      "555718      555718   2020-12-31 23:59:34  4170689372027579   \n",
      "\n",
      "                                    merchant        category     amt    first  \\\n",
      "0                      fraud_Kirlin and Sons   personal_care    2.86     Jeff   \n",
      "1                       fraud_Sporer-Keebler   personal_care   29.84   Joanne   \n",
      "2       fraud_Swaniawski, Nitzsche and Welch  health_fitness   41.28   Ashley   \n",
      "3                          fraud_Haley Group        misc_pos   60.05    Brian   \n",
      "4                      fraud_Johnston-Casper          travel    3.19   Nathan   \n",
      "...                                      ...             ...     ...      ...   \n",
      "555714                 fraud_Reilly and Sons  health_fitness   43.77  Michael   \n",
      "555715                  fraud_Hoppe-Parisian       kids_pets  111.84     Jose   \n",
      "555716                       fraud_Rau-Robel       kids_pets   86.88      Ann   \n",
      "555717                 fraud_Breitenberg LLC          travel    7.99     Eric   \n",
      "555718                     fraud_Dare-Marvin   entertainment   38.13   Samuel   \n",
      "\n",
      "            last gender                       street  ...  \\\n",
      "0        Elliott      M            351 Darlene Green  ...   \n",
      "1       Williams      F             3638 Marsh Union  ...   \n",
      "2          Lopez      F         9333 Valentine Point  ...   \n",
      "3       Williams      M  32941 Krystal Mill Apt. 552  ...   \n",
      "4         Massey      M     5783 Evan Roads Apt. 465  ...   \n",
      "...          ...    ...                          ...  ...   \n",
      "555714     Olson      M          558 Michael Estates  ...   \n",
      "555715   Vasquez      M          572 Davis Mountains  ...   \n",
      "555716    Lawson      F   144 Evans Islands Apt. 683  ...   \n",
      "555717   Preston      M   7020 Doyle Stream Apt. 951  ...   \n",
      "555718      Frey      M     830 Myers Plaza Apt. 384  ...   \n",
      "\n",
      "                               trans_num   unix_time  merch_lat  merch_long  \\\n",
      "0       2da90c7d74bd46a0caf3777415b3ebd3  1371816865  33.986391  -81.200714   \n",
      "1       324cc204407e99f51b0d6ca0055005e7  1371816873  39.450498 -109.960431   \n",
      "2       c81755dbbbea9d5c77f094348a7579be  1371816893  40.495810  -74.196111   \n",
      "3       2159175b9efe66dc301f149d3d5abf8c  1371816915  28.812398  -80.883061   \n",
      "4       57ff021bd3f328f8738bb535c302a31b  1371816917  44.959148  -85.884734   \n",
      "...                                  ...         ...        ...         ...   \n",
      "555714  9b1f753c79894c9f4b71f04581835ada  1388534347  39.946837  -91.333331   \n",
      "555715  2090647dac2c89a1d86c514c427f5b91  1388534349  29.661049  -96.186633   \n",
      "555716  6c5b7c8add471975aa0fec023b2e8408  1388534355  46.658340 -119.715054   \n",
      "555717  14392d723bb7737606b2700ac791b7aa  1388534364  44.470525 -117.080888   \n",
      "555718  1765bb45b3aa3224b4cdcb6e7a96cee3  1388534374  36.210097  -97.036372   \n",
      "\n",
      "        is_fraud  year month day hour  minute  \n",
      "0              0  2020     6  21   12      14  \n",
      "1              0  2020     6  21   12      14  \n",
      "2              0  2020     6  21   12      14  \n",
      "3              0  2020     6  21   12      15  \n",
      "4              0  2020     6  21   12      15  \n",
      "...          ...   ...   ...  ..  ...     ...  \n",
      "555714         0  2020    12  31   23      59  \n",
      "555715         0  2020    12  31   23      59  \n",
      "555716         0  2020    12  31   23      59  \n",
      "555717         0  2020    12  31   23      59  \n",
      "555718         0  2020    12  31   23      59  \n",
      "\n",
      "[555719 rows x 28 columns]\n"
     ]
    }
   ],
   "source": [
    "# Preprocess trans_date_trans_time column\n",
    "test['trans_date_trans_time'] = pd.to_datetime(test['trans_date_trans_time'], format=\"%Y-%m-%d %H:%M:%S\")\n",
    "\n",
    "# Extract components of the datetime\n",
    "test['year'] = test['trans_date_trans_time'].dt.year\n",
    "test['month'] = test['trans_date_trans_time'].dt.month\n",
    "test['day'] = test['trans_date_trans_time'].dt.day\n",
    "test['hour'] = test['trans_date_trans_time'].dt.hour\n",
    "test['minute'] = test['trans_date_trans_time'].dt.minute\n",
    "\n",
    "# Display the preprocessed DataFrame\n",
    "print(test)\n"
   ]
  },
  {
   "cell_type": "code",
   "execution_count": 39,
   "id": "075e873c-be9b-4e67-a535-88a891ce9f6e",
   "metadata": {},
   "outputs": [],
   "source": [
    " test = test.drop(columns=['trans_date_trans_time'])"
   ]
  },
  {
   "cell_type": "code",
   "execution_count": 40,
   "id": "be1458c0-73ee-4927-8b78-e0c3419b6c54",
   "metadata": {},
   "outputs": [
    {
     "name": "stdout",
     "output_type": "stream",
     "text": [
      "        Unnamed: 0            cc_num                              merchant  \\\n",
      "0                0  2291163933867244                 fraud_Kirlin and Sons   \n",
      "1                1  3573030041201292                  fraud_Sporer-Keebler   \n",
      "2                2  3598215285024754  fraud_Swaniawski, Nitzsche and Welch   \n",
      "3                3  3591919803438423                     fraud_Haley Group   \n",
      "4                4  3526826139003047                 fraud_Johnston-Casper   \n",
      "...            ...               ...                                   ...   \n",
      "555714      555714    30560609640617                 fraud_Reilly and Sons   \n",
      "555715      555715  3556613125071656                  fraud_Hoppe-Parisian   \n",
      "555716      555716  6011724471098086                       fraud_Rau-Robel   \n",
      "555717      555717     4079773899158                 fraud_Breitenberg LLC   \n",
      "555718      555718  4170689372027579                     fraud_Dare-Marvin   \n",
      "\n",
      "              category     amt    first      last gender  \\\n",
      "0        personal_care    2.86     Jeff   Elliott      M   \n",
      "1        personal_care   29.84   Joanne  Williams      F   \n",
      "2       health_fitness   41.28   Ashley     Lopez      F   \n",
      "3             misc_pos   60.05    Brian  Williams      M   \n",
      "4               travel    3.19   Nathan    Massey      M   \n",
      "...                ...     ...      ...       ...    ...   \n",
      "555714  health_fitness   43.77  Michael     Olson      M   \n",
      "555715       kids_pets  111.84     Jose   Vasquez      M   \n",
      "555716       kids_pets   86.88      Ann    Lawson      F   \n",
      "555717          travel    7.99     Eric   Preston      M   \n",
      "555718   entertainment   38.13   Samuel      Frey      M   \n",
      "\n",
      "                             street          city  ...  year  month  day  \\\n",
      "0                 351 Darlene Green      Columbia  ...  2020      6   21   \n",
      "1                  3638 Marsh Union       Altonah  ...  2020      6   21   \n",
      "2              9333 Valentine Point      Bellmore  ...  2020      6   21   \n",
      "3       32941 Krystal Mill Apt. 552    Titusville  ...  2020      6   21   \n",
      "4          5783 Evan Roads Apt. 465      Falmouth  ...  2020      6   21   \n",
      "...                             ...           ...  ...   ...    ...  ...   \n",
      "555714          558 Michael Estates         Luray  ...  2020     12   31   \n",
      "555715          572 Davis Mountains  Lake Jackson  ...  2020     12   31   \n",
      "555716   144 Evans Islands Apt. 683       Burbank  ...  2020     12   31   \n",
      "555717   7020 Doyle Stream Apt. 951          Mesa  ...  2020     12   31   \n",
      "555718     830 Myers Plaza Apt. 384        Edmond  ...  2020     12   31   \n",
      "\n",
      "        hour  minute merchant_encoded category_encoded gender_encoded  \\\n",
      "0         12      14         0.001324         0.070768       0.451367   \n",
      "1         12      14         0.001413         0.070768       0.548633   \n",
      "2         12      14         0.001359         0.065994       0.548633   \n",
      "3         12      15         0.001279         0.062215       0.451367   \n",
      "4         12      15         0.000666         0.031399       0.451367   \n",
      "...      ...     ...              ...              ...            ...   \n",
      "555714    23      59         0.001362         0.065994       0.451367   \n",
      "555715    23      59         0.001810         0.087620       0.451367   \n",
      "555716    23      59         0.001877         0.087620       0.548633   \n",
      "555717    23      59         0.000623         0.031399       0.451367   \n",
      "555718    23      59         0.001409         0.072166       0.451367   \n",
      "\n",
      "        city_encoded  state_encoded  \n",
      "0           0.001152       0.022567  \n",
      "1           0.001506       0.008382  \n",
      "2           0.001931       0.064633  \n",
      "3           0.001193       0.032578  \n",
      "4           0.001603       0.035397  \n",
      "...              ...            ...  \n",
      "555714      0.001130       0.029693  \n",
      "555715      0.001988       0.072686  \n",
      "555716      0.003009       0.014605  \n",
      "555717      0.001589       0.004481  \n",
      "555718      0.001961       0.020476  \n",
      "\n",
      "[555719 rows x 32 columns]\n"
     ]
    }
   ],
   "source": [
    "columns_to_encode = ['merchant', 'category', 'gender', 'city', 'state']\n",
    "\n",
    "#frequency encoding\n",
    "for column in columns_to_encode:\n",
    "    frequency_map = test[column].value_counts(normalize=True).to_dict()\n",
    "    test[column + '_encoded'] = test[column].map(frequency_map)\n",
    "\n",
    "# Display the result\n",
    "print(test)"
   ]
  },
  {
   "cell_type": "code",
   "execution_count": 41,
   "id": "19f02d1c",
   "metadata": {},
   "outputs": [
    {
     "name": "stdout",
     "output_type": "stream",
     "text": [
      "Index(['Unnamed: 0', 'cc_num', 'amt', 'zip', 'lat', 'long', 'city_pop',\n",
      "       'unix_time', 'merch_lat', 'merch_long', 'is_fraud', 'year', 'month',\n",
      "       'day', 'hour', 'minute', 'merchant_encoded', 'category_encoded',\n",
      "       'gender_encoded', 'city_encoded', 'state_encoded'],\n",
      "      dtype='object')\n"
     ]
    }
   ],
   "source": [
    "# Viewing Numeric Data\n",
    "numeric_columns = test.select_dtypes(include=[np.number])\n",
    "print(numeric_columns.columns)"
   ]
  },
  {
   "cell_type": "code",
   "execution_count": 42,
   "id": "dc1f6734-6ffe-49af-8f56-7978c03869db",
   "metadata": {},
   "outputs": [
    {
     "data": {
      "text/plain": [
       "False"
      ]
     },
     "execution_count": 42,
     "metadata": {},
     "output_type": "execute_result"
    }
   ],
   "source": [
    "numeric_columns.isnull().values.any()"
   ]
  },
  {
   "cell_type": "markdown",
   "id": "4a67b4ea-2814-4de8-bb09-b70c0b9a925b",
   "metadata": {},
   "source": [
    "# Applying PCA "
   ]
  },
  {
   "cell_type": "code",
   "execution_count": 43,
   "id": "c475aa02-bffd-4d73-9f05-e8f77a81fae7",
   "metadata": {},
   "outputs": [],
   "source": [
    "from sklearn.decomposition import PCA\n",
    "from sklearn.preprocessing import StandardScaler\n",
    "\n",
    "# Specify the columns to keep unchanged\n",
    "columns_to_keep = [\"amt\", \"is_fraud\"]  \n",
    "\n",
    "# Extract the columns for PCA\n",
    "columns_for_pca = test.drop(columns_to_keep, axis=1)\n",
    "\n",
    "# Step 1: Standardize the numeric data for PCA\n",
    "numeric_columns = columns_for_pca.select_dtypes(include=[np.number])\n",
    "scaler = StandardScaler()\n",
    "scaled_numeric_data = scaler.fit_transform(numeric_columns)\n",
    "\n",
    "# Step 2: Create a PCA instance\n",
    "pca = PCA()\n",
    "\n",
    "# Step 3: Fit the PCA instance to the combined data\n",
    "pca.fit(scaled_numeric_data)\n",
    "\n",
    "# Step 5: Transform the original data to the new coordinate system\n",
    "transformed_data = pca.transform(scaled_numeric_data)\n",
    "\n",
    "# Create a DataFrame with the principal components\n",
    "pc_columns = [f'PC{i+1}' for i in range(transformed_data.shape[1])]\n",
    "pc_df = pd.DataFrame(transformed_data, columns=pc_columns)\n",
    "\n",
    "# Combine the unchanged columns with the PCA components\n",
    "final_data = pd.concat([test[columns_to_keep], pc_df], axis=1)\n"
   ]
  },
  {
   "cell_type": "markdown",
   "id": "de725b86-1147-4c62-b2f3-f396ec1cb62e",
   "metadata": {},
   "source": [
    "# Predictive Model"
   ]
  },
  {
   "cell_type": "code",
   "execution_count": 44,
   "id": "62a361cf-4f51-4e09-928a-22ed58c2ee7e",
   "metadata": {},
   "outputs": [
    {
     "name": "stdout",
     "output_type": "stream",
     "text": [
      "Index([  1685,   1767,   1781,   1784,   1857,   1891,   1906,   1956,   1968,\n",
      "         2026,\n",
      "       ...\n",
      "       511272, 511374, 511675, 512502, 514913, 517197, 517274, 517341, 517529,\n",
      "       517571],\n",
      "      dtype='int64', length=2145)\n"
     ]
    }
   ],
   "source": [
    "# checking fraud rows indices\n",
    "fraudulent_indices = final_data[final_data[\"is_fraud\"] == 1].index\n",
    "print(fraudulent_indices)"
   ]
  },
  {
   "cell_type": "code",
   "execution_count": 45,
   "id": "50336087",
   "metadata": {},
   "outputs": [
    {
     "data": {
      "text/html": [
       "<div>\n",
       "<style scoped>\n",
       "    .dataframe tbody tr th:only-of-type {\n",
       "        vertical-align: middle;\n",
       "    }\n",
       "\n",
       "    .dataframe tbody tr th {\n",
       "        vertical-align: top;\n",
       "    }\n",
       "\n",
       "    .dataframe thead th {\n",
       "        text-align: right;\n",
       "    }\n",
       "</style>\n",
       "<table border=\"1\" class=\"dataframe\">\n",
       "  <thead>\n",
       "    <tr style=\"text-align: right;\">\n",
       "      <th></th>\n",
       "      <th>amt</th>\n",
       "      <th>is_fraud</th>\n",
       "      <th>PC1</th>\n",
       "      <th>PC2</th>\n",
       "      <th>PC3</th>\n",
       "      <th>PC4</th>\n",
       "      <th>PC5</th>\n",
       "      <th>PC6</th>\n",
       "      <th>PC7</th>\n",
       "      <th>PC8</th>\n",
       "      <th>...</th>\n",
       "      <th>PC10</th>\n",
       "      <th>PC11</th>\n",
       "      <th>PC12</th>\n",
       "      <th>PC13</th>\n",
       "      <th>PC14</th>\n",
       "      <th>PC15</th>\n",
       "      <th>PC16</th>\n",
       "      <th>PC17</th>\n",
       "      <th>PC18</th>\n",
       "      <th>PC19</th>\n",
       "    </tr>\n",
       "  </thead>\n",
       "  <tbody>\n",
       "    <tr>\n",
       "      <th>511675</th>\n",
       "      <td>981.22</td>\n",
       "      <td>1</td>\n",
       "      <td>-2.31163</td>\n",
       "      <td>-0.491172</td>\n",
       "      <td>-0.402433</td>\n",
       "      <td>0.19299</td>\n",
       "      <td>-1.853107</td>\n",
       "      <td>0.531898</td>\n",
       "      <td>-0.574916</td>\n",
       "      <td>-1.581542</td>\n",
       "      <td>...</td>\n",
       "      <td>1.725857</td>\n",
       "      <td>-0.200075</td>\n",
       "      <td>1.293584</td>\n",
       "      <td>0.047384</td>\n",
       "      <td>0.27581</td>\n",
       "      <td>-0.008666</td>\n",
       "      <td>0.083297</td>\n",
       "      <td>0.048323</td>\n",
       "      <td>-0.001349</td>\n",
       "      <td>1.714877e-16</td>\n",
       "    </tr>\n",
       "  </tbody>\n",
       "</table>\n",
       "<p>1 rows × 21 columns</p>\n",
       "</div>"
      ],
      "text/plain": [
       "           amt  is_fraud      PC1       PC2       PC3      PC4       PC5  \\\n",
       "511675  981.22         1 -2.31163 -0.491172 -0.402433  0.19299 -1.853107   \n",
       "\n",
       "             PC6       PC7       PC8  ...      PC10      PC11      PC12  \\\n",
       "511675  0.531898 -0.574916 -1.581542  ...  1.725857 -0.200075  1.293584   \n",
       "\n",
       "            PC13     PC14      PC15      PC16      PC17      PC18  \\\n",
       "511675  0.047384  0.27581 -0.008666  0.083297  0.048323 -0.001349   \n",
       "\n",
       "                PC19  \n",
       "511675  1.714877e-16  \n",
       "\n",
       "[1 rows x 21 columns]"
      ]
     },
     "execution_count": 45,
     "metadata": {},
     "output_type": "execute_result"
    }
   ],
   "source": [
    "# Rechecking any one of such an fraudulent index\n",
    "final_data.iloc[511675:511676]"
   ]
  },
  {
   "cell_type": "code",
   "execution_count": 46,
   "id": "b85fc779",
   "metadata": {},
   "outputs": [],
   "source": [
    "final_data = final_data.drop(columns=['is_fraud'],axis = 1)"
   ]
  },
  {
   "cell_type": "code",
   "execution_count": 49,
   "id": "35ab0702",
   "metadata": {},
   "outputs": [
    {
     "name": "stdout",
     "output_type": "stream",
     "text": [
      "[1]\n",
      "Fraud\n"
     ]
    },
    {
     "name": "stderr",
     "output_type": "stream",
     "text": [
      "C:\\Users\\Tanis\\AppData\\Local\\Programs\\Python\\Python311\\Lib\\site-packages\\sklearn\\base.py:457: UserWarning: X has feature names, but RandomForestClassifier was fitted without feature names\n",
      "  warnings.warn(\n"
     ]
    }
   ],
   "source": [
    "row_to_predict = final_data.iloc[511675:511676]  # Select the row as a DataFrame\n",
    "\n",
    "# Predict the result for the selected row\n",
    "prediction = rfc.predict(row_to_predict)\n",
    "print(prediction)\n",
    "\n",
    "if prediction == 1:\n",
    "    print(\"Fraud\")\n",
    "else:\n",
    "    print(\"Normal\")"
   ]
  },
  {
   "cell_type": "code",
   "execution_count": 48,
   "id": "7e464f48-a120-4cbf-9028-c09c7ef97ff3",
   "metadata": {},
   "outputs": [
    {
     "name": "stdout",
     "output_type": "stream",
     "text": [
      "[0]\n",
      "Normal\n"
     ]
    },
    {
     "name": "stderr",
     "output_type": "stream",
     "text": [
      "C:\\Users\\Tanis\\AppData\\Local\\Programs\\Python\\Python311\\Lib\\site-packages\\sklearn\\base.py:457: UserWarning: X has feature names, but RandomForestClassifier was fitted without feature names\n",
      "  warnings.warn(\n"
     ]
    }
   ],
   "source": [
    "row_to_predict = final_data.iloc[1957:1958]  \n",
    "\n",
    "# Predict the result for the selected row\n",
    "prediction = rfc.predict(row_to_predict)\n",
    "print(prediction)\n",
    "\n",
    "if prediction == 1:\n",
    "    print(\"Fraud\")\n",
    "else:\n",
    "    print(\"Normal\")"
   ]
  }
 ],
 "metadata": {
  "kernelspec": {
   "display_name": "Python 3 (ipykernel)",
   "language": "python",
   "name": "python3"
  },
  "language_info": {
   "codemirror_mode": {
    "name": "ipython",
    "version": 3
   },
   "file_extension": ".py",
   "mimetype": "text/x-python",
   "name": "python",
   "nbconvert_exporter": "python",
   "pygments_lexer": "ipython3",
   "version": "3.11.4"
  }
 },
 "nbformat": 4,
 "nbformat_minor": 5
}
